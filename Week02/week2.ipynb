{
  "nbformat": 4,
  "nbformat_minor": 0,
  "metadata": {
    "colab": {
      "name": "Untitled1.ipynb",
      "provenance": []
    },
    "kernelspec": {
      "name": "python3",
      "display_name": "Python 3"
    }
  },
  "cells": [
    {
      "cell_type": "code",
      "metadata": {
        "id": "9-HOBUTBlxar"
      },
      "source": [
        "import numpy as np\r\n",
        "import pandas as pd\r\n",
        "\r\n",
        "def target_mean_v1(data, y_name, x_name):\r\n",
        "    result = np.zeros(data.shape[0])\r\n",
        "    for i in range(data.shape[0]):\r\n",
        "        groupby_result = data[data.index != i].groupby([x_name], as_index=False).agg(['mean', 'count'])\r\n",
        "        result[i] = groupby_result.loc[groupby_result.index == data.loc[i, x_name], (y_name, 'mean')]\r\n",
        "    return result\r\n",
        "\r\n"
      ],
      "execution_count": 1,
      "outputs": []
    },
    {
      "cell_type": "code",
      "metadata": {
        "id": "vCk8f8pJmOeL"
      },
      "source": [
        "y = np.random.randint(2, size=(5000, 1))\r\n",
        "x = np.random.randint(10, size=(5000, 1))\r\n",
        "data = pd.DataFrame(np.concatenate([y, x], axis=1), columns=['y', 'x'])\r\n"
      ],
      "execution_count": 2,
      "outputs": []
    },
    {
      "cell_type": "code",
      "metadata": {
        "colab": {
          "base_uri": "https://localhost:8080/"
        },
        "id": "THKtANr3maQD",
        "outputId": "caa108e0-6840-490d-8626-0436e7ac1a88"
      },
      "source": [
        "%%timeit\r\n",
        "result_1 = target_mean_v1(data, 'y', 'x')"
      ],
      "execution_count": 4,
      "outputs": [
        {
          "output_type": "stream",
          "text": [
            "1 loop, best of 3: 24.7 s per loop\n"
          ],
          "name": "stdout"
        }
      ]
    },
    {
      "cell_type": "code",
      "metadata": {
        "id": "K4vB_7VKptKL"
      },
      "source": [
        "def target_mean_v2(data, y_name, x_name):\r\n",
        "    result = np.zeros(data.shape[0])\r\n",
        "    value_dict = dict()\r\n",
        "    count_dict = dict()\r\n",
        "    for i in range(data.shape[0]):\r\n",
        "        if data.loc[i, x_name] not in value_dict.keys():\r\n",
        "            value_dict[data.loc[i, x_name]] = data.loc[i, y_name]\r\n",
        "            count_dict[data.loc[i, x_name]] = 1\r\n",
        "        else:\r\n",
        "            value_dict[data.loc[i, x_name]] += data.loc[i, y_name]\r\n",
        "            count_dict[data.loc[i, x_name]] += 1\r\n",
        "    for i in range(data.shape[0]):\r\n",
        "        result[i] = (value_dict[data.loc[i, x_name]] - data.loc[i, y_name]) / (count_dict[data.loc[i, x_name]] - 1)\r\n",
        "    return result"
      ],
      "execution_count": 5,
      "outputs": []
    },
    {
      "cell_type": "code",
      "metadata": {
        "colab": {
          "base_uri": "https://localhost:8080/"
        },
        "id": "pZuoSIYupvvS",
        "outputId": "4e84e5d9-e51a-4715-9cd9-604cf2313ef3"
      },
      "source": [
        "%%timeit\r\n",
        "target_mean_v2(data, 'y', 'x')"
      ],
      "execution_count": 146,
      "outputs": [
        {
          "output_type": "stream",
          "text": [
            "1 loop, best of 3: 260 ms per loop\n"
          ],
          "name": "stdout"
        }
      ]
    },
    {
      "cell_type": "code",
      "metadata": {
        "colab": {
          "base_uri": "https://localhost:8080/"
        },
        "id": "HkqglzefJQZA",
        "outputId": "417381a9-c515-4ee2-c9d7-d29291fc3a9e"
      },
      "source": [
        "# 验证正确性\r\n",
        "result_2 = target_mean_v2(data, 'y', 'x')\r\n",
        "np.linalg.norm(result_2 - result_1)"
      ],
      "execution_count": 149,
      "outputs": [
        {
          "output_type": "execute_result",
          "data": {
            "text/plain": [
              "0.0"
            ]
          },
          "metadata": {
            "tags": []
          },
          "execution_count": 149
        }
      ]
    },
    {
      "cell_type": "code",
      "metadata": {
        "colab": {
          "base_uri": "https://localhost:8080/"
        },
        "id": "XV4PJ8Id_uXP",
        "outputId": "d5d17284-3d45-4d0a-9964-c55d4c678db0"
      },
      "source": [
        "%load_ext Cython"
      ],
      "execution_count": 32,
      "outputs": [
        {
          "output_type": "stream",
          "text": [
            "The Cython extension is already loaded. To reload it, use:\n",
            "  %reload_ext Cython\n"
          ],
          "name": "stdout"
        }
      ]
    },
    {
      "cell_type": "code",
      "metadata": {
        "id": "rFj-c8HbACwR"
      },
      "source": [
        "%%cython\r\n",
        "\r\n",
        "import numpy as np\r\n",
        "cimport numpy as np\r\n",
        "\r\n",
        "cpdef target_mean_by_cython(data, y_name, x_name):\r\n",
        "    # 注意np.ndarray[long, ndim=2, mode='fortran']此处转换的类型 ValueError: Buffer dtype mismatch, expected 'int' but got 'long'\r\n",
        "    cdef np.ndarray[long, ndim=2, mode='fortran'] arg = np.asfortranarray(data, dtype=int)\r\n",
        "    cdef list result = [0] * data.shape[0]\r\n",
        "    value_dict = dict()\r\n",
        "    count_dict = dict()\r\n",
        "    keys = value_dict.keys()\r\n",
        "    for i in range(arg.shape[0]):\r\n",
        "        if arg[i, 1] not in keys:\r\n",
        "            value_dict[arg[i, 1]] = arg[i, 0]\r\n",
        "            count_dict[arg[i, 1]] = 1\r\n",
        "        else:\r\n",
        "            value_dict[arg[i, 1]] += arg[i, 0]\r\n",
        "            count_dict[arg[i, 1]] += 1\r\n",
        "    for i in range(arg.shape[0]):\r\n",
        "        result[i] = (value_dict[arg[i, 1]] - arg[i, 0]) / (count_dict[arg[i, 1]] - 1)\r\n",
        "    return result"
      ],
      "execution_count": 155,
      "outputs": []
    },
    {
      "cell_type": "code",
      "metadata": {
        "colab": {
          "base_uri": "https://localhost:8080/"
        },
        "id": "HrjPYv9QAZ-k",
        "outputId": "7c64bc08-bdb0-4553-e9ef-272f09e7e7cf"
      },
      "source": [
        "%%timeit\r\n",
        "result_3 = target_mean_by_cython(data, 'y', 'x')"
      ],
      "execution_count": 156,
      "outputs": [
        {
          "output_type": "stream",
          "text": [
            "1000 loops, best of 3: 1.2 ms per loop\n"
          ],
          "name": "stdout"
        }
      ]
    },
    {
      "cell_type": "code",
      "metadata": {
        "colab": {
          "base_uri": "https://localhost:8080/"
        },
        "id": "lKLZ6uwEIro5",
        "outputId": "a1e570a9-8de4-46bc-a33f-93dc04682b13"
      },
      "source": [
        "# 验证正确性\r\n",
        "result_3 = target_mean_by_cython(data, 'y', 'x')\r\n",
        "print(np.linalg.norm(result_3 - result_2))"
      ],
      "execution_count": 157,
      "outputs": [
        {
          "output_type": "stream",
          "text": [
            "0.0\n"
          ],
          "name": "stdout"
        }
      ]
    },
    {
      "cell_type": "code",
      "metadata": {
        "id": "Xbl0NCaoKATR"
      },
      "source": [
        "%%cython\r\n",
        "# 不使用pthon中的dict\r\n",
        "import numpy as np\r\n",
        "cimport numpy as np\r\n",
        "import cython\r\n",
        "cimport cython\r\n",
        "from cython.parallel import prange\r\n",
        "@cython.boundscheck(False)\r\n",
        "@cython.wraparound(False)\r\n",
        "cpdef target_mean_by_no_dict(data, y_name, x_name):\r\n",
        "\r\n",
        "    cdef int shape = data.shape[0]\r\n",
        "    cdef np.ndarray[double] result = np.zeros(shape, dtype = np.float)\r\n",
        "    cdef np.ndarray[double] values = np.zeros(shape, dtype = np.float)\r\n",
        "    cdef np.ndarray[double] counts = np.zeros(shape, dtype = np.float)\r\n",
        "\r\n",
        "    cdef np.ndarray[long] x_values = data[x_name].values\r\n",
        "    cdef np.ndarray[long] y_values = data[y_name].values\r\n",
        "\r\n",
        "    cdef int i=0\r\n",
        "\r\n",
        "    for i in range(shape):\r\n",
        "        values[x_values[i]] += y_values[i]\r\n",
        "        counts[x_values[i]] += 1\r\n",
        "\r\n",
        "    for i in range(shape):\r\n",
        "        result[i] = (values[x_values[i]] - y_values[i]) / (counts[x_values[i]] -1 )\r\n",
        "    return result"
      ],
      "execution_count": 165,
      "outputs": []
    },
    {
      "cell_type": "code",
      "metadata": {
        "colab": {
          "base_uri": "https://localhost:8080/"
        },
        "id": "23J4F2bOKNix",
        "outputId": "73a2678d-e112-4d39-fdd3-d6eb57175b52"
      },
      "source": [
        "%%timeit\r\n",
        "result_4 = target_mean_by_no_dict(data, 'y', 'x')"
      ],
      "execution_count": 166,
      "outputs": [
        {
          "output_type": "stream",
          "text": [
            "The slowest run took 19.57 times longer than the fastest. This could mean that an intermediate result is being cached.\n",
            "10000 loops, best of 3: 36.8 µs per loop\n"
          ],
          "name": "stdout"
        }
      ]
    },
    {
      "cell_type": "code",
      "metadata": {
        "colab": {
          "base_uri": "https://localhost:8080/"
        },
        "id": "gnjfUW3mK1pZ",
        "outputId": "7ea27857-406c-4fb3-dbbf-17c1533c5e81"
      },
      "source": [
        "# 验证正确性\r\n",
        "result_4 = target_mean_by_no_dict(data, 'y', 'x')\r\n",
        "print(np.linalg.norm(result_4 - result_2))"
      ],
      "execution_count": 167,
      "outputs": [
        {
          "output_type": "stream",
          "text": [
            "0.0\n"
          ],
          "name": "stdout"
        }
      ]
    },
    {
      "cell_type": "code",
      "metadata": {
        "id": "I5-9fserLCqp"
      },
      "source": [
        "%%cython\r\n",
        "\r\n",
        "import numpy as np\r\n",
        "cimport numpy as np\r\n",
        "import cython\r\n",
        "cimport cython\r\n",
        "from cython.parallel import prange\r\n",
        "\r\n",
        "\r\n",
        "@cython.boundscheck(False)\r\n",
        "@cython.wraparound(False)\r\n",
        "cpdef target_mean_by_openmp(data, y_name, x_name):\r\n",
        "    cdef int shape = data.shape[0]\r\n",
        "    cdef np.ndarray[double] result = np.zeros(shape, dtype = np.float64)\r\n",
        "    cdef np.ndarray[double] values = np.zeros(shape, dtype = np.float64)\r\n",
        "    cdef np.ndarray[double] counts = np.zeros(shape, dtype = np.float64)\r\n",
        "    cdef np.ndarray[long] x_values = data[x_name].values\r\n",
        "    cdef np.ndarray[long] y_values = data[y_name].values\r\n",
        "\r\n",
        "    cdef int i=0\r\n",
        "    # 可能存在race condition\r\n",
        "    for i in prange(shape, nogil=True):\r\n",
        "        values[x_values[i]] += y_values[i]\r\n",
        "        counts[x_values[i]] += 1\r\n",
        "\r\n",
        "    for i in prange(shape, nogil=True):\r\n",
        "        result[i] = (values[x_values[i]] - y_values[i]) / (counts[x_values[i]] -1 )\r\n",
        "    return result\r\n"
      ],
      "execution_count": 194,
      "outputs": []
    },
    {
      "cell_type": "code",
      "metadata": {
        "colab": {
          "base_uri": "https://localhost:8080/"
        },
        "id": "Ss5WGAQILQgA",
        "outputId": "e936d967-9c95-43d7-e912-c7d985c2223d"
      },
      "source": [
        "%%timeit\r\n",
        "result_5 = target_mean_by_openmp(data, 'y', 'x')"
      ],
      "execution_count": 195,
      "outputs": [
        {
          "output_type": "stream",
          "text": [
            "The slowest run took 54.42 times longer than the fastest. This could mean that an intermediate result is being cached.\n",
            "10000 loops, best of 3: 43.1 µs per loop\n"
          ],
          "name": "stdout"
        }
      ]
    },
    {
      "cell_type": "code",
      "metadata": {
        "colab": {
          "base_uri": "https://localhost:8080/"
        },
        "id": "-ISANX0MLVP8",
        "outputId": "faf39e07-6a29-4bd6-932a-db9f600523c8"
      },
      "source": [
        "# 验证正确性\r\n",
        "result_5 = target_mean_by_no_dict(data, 'y', 'x')\r\n",
        "print(np.linalg.norm(result_5 - result_2))"
      ],
      "execution_count": 196,
      "outputs": [
        {
          "output_type": "stream",
          "text": [
            "0.0\n"
          ],
          "name": "stdout"
        }
      ]
    }
  ]
}